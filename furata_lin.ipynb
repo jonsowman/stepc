{
 "metadata": {
  "name": "",
  "signature": "sha256:b79f74880baeceb4b13fd523fb385b7a7c32033528b6f59c9b1a78d28891c2aa"
 },
 "nbformat": 3,
 "nbformat_minor": 0,
 "worksheets": [
  {
   "cells": [
    {
     "cell_type": "markdown",
     "metadata": {},
     "source": [
      "# Linearised Furata Pendulum\n",
      "\n",
      "**Jon Sowman <j.sowman@soton.ac.uk>**"
     ]
    },
    {
     "cell_type": "code",
     "collapsed": false,
     "input": [
      "import numpy as np\n",
      "import cvxopt\n",
      "from stepc.linsystem import LinSystem\n",
      "import scipy.integrate\n",
      "from stepc.c2d import c2d\n",
      "from stepc.simulator import Simulator\n",
      "from stepc.controller import *\n",
      "from pprint import pprint"
     ],
     "language": "python",
     "metadata": {},
     "outputs": [],
     "prompt_number": 2
    },
    {
     "cell_type": "code",
     "collapsed": false,
     "input": [
      "# Create the system (4 states, 1 ip, 2 op)\n",
      "sysc = LinSystem(4, 1, 2)\n",
      "\n",
      "# Pendulum parameters\n",
      "mp = 0.024\n",
      "mr = 0.95\n",
      "Lp = 0.129\n",
      "Lr = 0.085\n",
      "Jp = 3.33e-5\n",
      "Jr = 5.72e-5\n",
      "Dp = 0.0\n",
      "Dr = 0.0\n",
      "kt = 0.042\n",
      "km = 0.042\n",
      "Rm = 8.4\n",
      "g = 9.81\n",
      "\n",
      "# Total MoI\n",
      "Jt = Jp*mp*Lr*Lr + Jr*Jp + 0.25*Jr*mp*Lp*Lp\n",
      "\n",
      "# Continuous time system\n",
      "sysc.A[0, 0] = 0.0\n",
      "sysc.A[0, 1] = 0.0\n",
      "sysc.A[0, 2] = Jt\n",
      "sysc.A[0, 3] = 0.0\n",
      "\n",
      "sysc.A[1, 0] = 0.0\n",
      "sysc.A[1, 1] = 0.0\n",
      "sysc.A[1, 2] = 0.0\n",
      "sysc.A[1, 3] = Jt\n",
      "\n",
      "sysc.A[2, 0] = 0.0\n",
      "sysc.A[2, 1] = 0.25*mp*mp*Lp*Lp*Lr*g\n",
      "sysc.A[2, 2] = -(Jp + 0.25*mp*Lp*Lp)*Dr\n",
      "sysc.A[2, 3] = -0.5*mp*Lp*Lr*Dp\n",
      "\n",
      "sysc.A[3, 0] = 0\n",
      "sysc.A[3, 1] = 0.5*mp*Lp*g*(Jr + mp*Lr*Lr)\n",
      "sysc.A[3, 2] = -0.5*mp*Lp*Lr*Dr\n",
      "sysc.A[3, 3] = -(Jr + mp*Lr*Lr)*Dp\n",
      "\n",
      "sysc.A = sysc.A / Jt\n",
      "\n",
      "sysc.B[0, 0] = 0.0\n",
      "sysc.B[1, 0] = 0.0\n",
      "sysc.B[2, 0] = Jp + 0.25*mp*Lp*Lp\n",
      "sysc.B[3, 0] = 0.5*mp*Lp*Lr\n",
      "sysc.B = sysc.B / Jt\n",
      "\n",
      "# Absorb actuator model\n",
      "sysc.B = sysc.B * (kt/Rm)\n",
      "sysc.A[2,2] = sysc.A[2,2] - (kt*km/Rm)*sysc.B[2, 0]\n",
      "sysc.A[3,2] = sysc.A[3,2] - (kt*km/Rm)*sysc.B[3, 0]\n",
      "\n",
      "sysc.C = np.hstack((np.eye(2), np.zeros([2, 2])))\n",
      "\n",
      "# Timestep\n",
      "Ts = 0.005\n",
      "\n",
      "# Discretise the system for the MPC controller\n",
      "sys = c2d(sysc, Ts)"
     ],
     "language": "python",
     "metadata": {},
     "outputs": [],
     "prompt_number": 21
    },
    {
     "cell_type": "code",
     "collapsed": false,
     "input": [
      "# The continuous time derivative\n",
      "def nlderiv(x, t, u):\n",
      "    xdot = sysc.A.dot(x) + sysc.B.dot(u)\n",
      "    return xdot"
     ],
     "language": "python",
     "metadata": {},
     "outputs": [],
     "prompt_number": 22
    },
    {
     "cell_type": "code",
     "collapsed": false,
     "input": [
      "# Create a linear MPC controller and set parameters that aren't time varying\n",
      "mpc = LinearMPCController(sys)\n",
      "mpc.Q = np.diag([1e-3, 1e3, 1e-9, 1e-9])\n",
      "mpc.P = 1\n",
      "mpc.R = np.diag([1e-3])\n",
      "mpc.set_prediction_horizon(10)\n",
      "mpc.set_control_horizon(3)\n",
      "target = np.array([[0.0], [0.0], [0.0], [0.0]])\n",
      "\n",
      "# Setup MPC controller\n",
      "mpc.set_target(target)\n",
      "mpc.generate_matrices()\n",
      "# Argument order (ulim, dulim, zlim)\n",
      "# Each is a 2-col matrix of [umin, umin_weight, umax, umax_weight; ...]\n",
      "# Weights must be +ve. Use np.inf for a hard constraint.\n",
      "mpc.generate_constraints(np.array([[-12, np.inf, 12, np.inf]]), # motor voltage Vm\n",
      "                         np.array([[-1e3, np.inf, 1e3, np.inf]]), # make any adjustments you like\n",
      "                         np.array([[-pi, 1e-9, pi, 1e-9],\n",
      "                                   [-10, 1e-9, 10, 1e-9],\n",
      "                                   [1, 1e-9, 1, 1e-9],\n",
      "                                   [1, 1e-9, 1, 1e-9]]))"
     ],
     "language": "python",
     "metadata": {},
     "outputs": [],
     "prompt_number": 47
    },
    {
     "cell_type": "code",
     "collapsed": false,
     "input": [
      "# Initial state and input\n",
      "x_angle_deg = 45\n",
      "x = np.array([[0.0], [x_angle_deg/180.0*np.pi], [0.0], [15.0]])\n",
      "u = np.array([[0.0]])\n",
      "\n",
      "# Reset\n",
      "mpc.reset()\n",
      "\n",
      "# Start at what time?\n",
      "t = 0\n",
      "\n",
      "# Storage vectors\n",
      "tall = t\n",
      "uall = u\n",
      "xall = x\n",
      "\n",
      "# Run simulation\n",
      "while t < .5:\n",
      "    # Get control inputs\n",
      "    (u, u_traj, z_traj) = mpc.controlmove(x)\n",
      "    \n",
      "    x = sys.A.dot(x) + sys.B.dot(u)\n",
      "    \n",
      "    # Store\n",
      "    xall = np.hstack((xall, x))\n",
      "    uall = np.append(uall, u)\n",
      "    tall = np.append(tall, t)\n",
      "    \n",
      "    # Advance time\n",
      "    t += Ts\n",
      "    \n",
      "# Results\n",
      "print \"Final state is [%.6f, %.5f]\" % (x[0], x[1])\n",
      "plt.plot(tall, xall[1,:] * 180.0 / np.pi)\n",
      "plt.step(tall, uall)"
     ],
     "language": "python",
     "metadata": {},
     "outputs": [
      {
       "output_type": "stream",
       "stream": "stdout",
       "text": [
        "Final state is [-14.125520, -0.09599]\n"
       ]
      },
      {
       "metadata": {},
       "output_type": "pyout",
       "prompt_number": 51,
       "text": [
        "[<matplotlib.lines.Line2D at 0x115abfad0>]"
       ]
      },
      {
       "metadata": {},
       "output_type": "display_data",
       "png": "[encoded data removed]",
       "text": [
        "<matplotlib.figure.Figure at 0x115abfb10>"
       ]
      }
     ],
     "prompt_number": 51
    }
   ],
   "metadata": {}
  }
 ]
}