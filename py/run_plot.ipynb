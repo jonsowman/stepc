{
 "metadata": {
  "name": "",
  "signature": "sha256:8daef296f85079e3f41d2f67937432d35f7e04665af1d778e3510a0e88f353b5"
 },
 "nbformat": 3,
 "nbformat_minor": 0,
 "worksheets": [
  {
   "cells": [
    {
     "cell_type": "code",
     "collapsed": false,
     "input": [
      "import numpy as np\n",
      "import cvxopt\n",
      "from stepc.linsystem import LinSystem\n",
      "import scipy.integrate\n",
      "from stepc.c2d import c2d\n",
      "from stepc.simulator import Simulator\n",
      "from stepc.controller import *\n",
      "from pprint import pprint"
     ],
     "language": "python",
     "metadata": {},
     "outputs": [],
     "prompt_number": 1
    },
    {
     "cell_type": "code",
     "collapsed": false,
     "input": [
      "# Create the system\n",
      "sysc = LinSystem(2, 1, 1)\n",
      "\n",
      "# Pendulum parameters\n",
      "g = 9.81\n",
      "L = 1\n",
      "m = 0.1\n",
      "B = 1\n",
      "\n",
      "# Continuous time system\n",
      "sysc.A[0, 0] = 0\n",
      "sysc.A[0, 1] = 1\n",
      "sysc.A[1, 0] = -(g/L)\n",
      "sysc.A[1, 1] = -B/(m*L*L)\n",
      "\n",
      "sysc.B[0, 0] = 0\n",
      "sysc.B[1, 0] = 1/(m*L*L)\n",
      "\n",
      "sysc.C[0, 0] = 1\n",
      "sysc.C[0, 1] = 0\n",
      "\n",
      "# Timestep\n",
      "Ts = 0.1\n",
      "\n",
      "# Discretise the system for the MPC controller\n",
      "sys = c2d(sysc, Ts)"
     ],
     "language": "python",
     "metadata": {},
     "outputs": [],
     "prompt_number": 2
    },
    {
     "cell_type": "code",
     "collapsed": false,
     "input": [
      "# Jacobians\n",
      "def Jx(x0):\n",
      "    x1_0 = x0[0]\n",
      "    x2_0 = x0[1]\n",
      "    jac = np.array([[0, 1], [-(g/L)*np.cos(x1_0), -B/(m*L*L)]])\n",
      "    return jac\n",
      "\n",
      "def Ju(u0):\n",
      "    return np.array([[0], [1/(m*L*L)]])\n",
      "\n",
      "def V(x, u, t):\n",
      "    \"\"\"\n",
      "    V = f(x0, u0) - Jx(x0) - Ju(u0)\n",
      "    \"\"\"\n",
      "    f = nlderiv(x, t, u)\n",
      "    return f - Jx(x).dot(x) - Ju(u).dot(u)\n",
      "\n",
      "# True nonlinear system, this function calculates xdot = f(x(t), u(t), t)\n",
      "def nlderiv(x, t, u):\n",
      "    # Find xdot at (x,u) at t\n",
      "    x1 = x[0] # theta\n",
      "    x2 = x[1] # theta dot\n",
      "    xdot1 = x2\n",
      "    xdot2 = -(B*x2)/(m*L*L) - (g/L)*np.sin(x1) + u/(m*L*L)\n",
      "    re = np.array([xdot1, xdot2])\n",
      "    return re"
     ],
     "language": "python",
     "metadata": {},
     "outputs": [],
     "prompt_number": 3
    },
    {
     "cell_type": "code",
     "collapsed": false,
     "input": [
      "# Create a linear MPC controller and set parameters that aren't time varying\n",
      "mpc = LinearMPCController(sys)\n",
      "mpc.Q = 10\n",
      "mpc.P = 1\n",
      "mpc.R = 0.001\n",
      "mpc.set_prediction_horizon(10)\n",
      "mpc.set_control_horizon(3)\n",
      "target = np.array([[np.pi], [0], [1]])"
     ],
     "language": "python",
     "metadata": {},
     "outputs": [],
     "prompt_number": 4
    },
    {
     "cell_type": "code",
     "collapsed": false,
     "input": [
      "# Initial state and input\n",
      "x = np.array([[0], [0.]])\n",
      "u = np.array([[0.]])\n",
      "\n",
      "# Reset\n",
      "mpc.reset()\n",
      "\n",
      "# The augmented system we will use for the off-eqbm linearised system\n",
      "sysv = LinSystem(sys.order + 1, sys.numinputs, sys.numoutputs)\n",
      "\n",
      "# Pre augment\n",
      "Aa = np.vstack((np.hstack((Jx(x), V(x, u, 0))),\n",
      "                np.hstack((np.zeros([1, sys.order]), np.array([[0]])))))\n",
      "Ba = np.vstack((Ju(u), np.zeros([1, sys.numinputs])))\n",
      "xa = np.vstack((x, np.array([[1]])))\n",
      "\n",
      "# Start at what time?\n",
      "t = 0\n",
      "\n",
      "# Storage vectors\n",
      "tall = t\n",
      "uall = u\n",
      "xall = x\n",
      "\n",
      "# Run simulation\n",
      "while t < 10:\n",
      "    # Augment (update Jacobians around the current (x,u) pair)\n",
      "    Aa[0:sys.order, 0:sys.order] = Jx(x)\n",
      "    Aa[0:sys.order, sys.order:sys.order+1] = V(x, u, t)\n",
      "    Ba[0:sys.order, 0:sys.numinputs] = Ju(u)\n",
      "    sysv.A = Aa\n",
      "    sysv.B = Ba\n",
      "\n",
      "    # Discretise the model\n",
      "    sysv = c2d(sysv, Ts)\n",
      "    \n",
      "    # Update plant model in the MPC controller\n",
      "    mpc.set_plant(sysv)\n",
      "    mpc.set_target(target)\n",
      "    mpc.generate_matrices()\n",
      "    # Argument order (ulim, dulim, zlim)\n",
      "    # Each is a 2-col matrix of [umin, umin_weight, umax, umax_weight; ...]\n",
      "    # Weights must be +ve. Use np.inf for a hard constraint.\n",
      "    mpc.generate_constraints(np.array([[-5, np.inf, 5, np.inf]]),\n",
      "                             np.array([[-10, np.inf, 10, np.inf]]),\n",
      "                             np.array([[-1, 1, 1, 1],\n",
      "                                       [-10, 1, 10, 1],\n",
      "                                       [1, 1e-9, 1, 1e-9]])) # augmented constrained by dynamics\n",
      "    \n",
      "    # Get control inputs\n",
      "    xa[0:sys.order] = x\n",
      "    (u, u_traj, z_traj) = mpc.controlmove(xa)\n",
      "    \n",
      "    # Simulate cont. time. plant - find new state x(k+1) at time t+Ts (second result row)\n",
      "    res = scipy.integrate.odeint(nlderiv, np.ravel(x), np.array([t, t+Ts]), args=(u,))\n",
      "    x = res[1,:].reshape(sys.order, -1)\n",
      "    \n",
      "    # Store\n",
      "    xall = np.hstack((xall, x))\n",
      "    uall = np.append(uall, u)\n",
      "    tall = np.append(tall, t)\n",
      "    \n",
      "    # Advance time\n",
      "    t += Ts\n",
      "    \n",
      "# Results\n",
      "print \"Final state is [%.6f, %.5f]\" % (x[0], x[1])\n",
      "plt.plot(tall, xall[0,:])\n",
      "plt.step(tall, uall)"
     ],
     "language": "python",
     "metadata": {},
     "outputs": [
      {
       "output_type": "stream",
       "stream": "stdout",
       "text": [
        "Final state is [3.015373, 0.00211]\n"
       ]
      },
      {
       "metadata": {},
       "output_type": "pyout",
       "prompt_number": 8,
       "text": [
        "[<matplotlib.lines.Line2D at 0x1073078d0>]"
       ]
      },
      {
       "metadata": {},
       "output_type": "display_data",
       "png": "[encoded data removed]",
       "text": [
        "<matplotlib.figure.Figure at 0x106756150>"
       ]
      }
     ],
     "prompt_number": 8
    }
   ],
   "metadata": {}
  }
 ]
}