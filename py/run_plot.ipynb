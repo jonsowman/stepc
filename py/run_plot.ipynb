{
 "metadata": {
  "name": "",
  "signature": "sha256:483f28d5aaa04563acc7b0817f6ce55150f5b299e224bc9b4b20cd336a777830"
 },
 "nbformat": 3,
 "nbformat_minor": 0,
 "worksheets": [
  {
   "cells": [
    {
     "cell_type": "code",
     "collapsed": false,
     "input": [
      "import numpy as np\n",
      "import cvxopt\n",
      "\n",
      "from stepc.linsystem import LinSystem\n",
      "from stepc.simulator import Simulator\n",
      "from stepc.solver import ForwardsEulerSolver\n",
      "from stepc.controller import *"
     ],
     "language": "python",
     "metadata": {},
     "outputs": [],
     "prompt_number": 1
    },
    {
     "cell_type": "code",
     "collapsed": false,
     "input": [
      "# Create the system\n",
      "sys = LinSystem(2, 1, 1)\n",
      "\n",
      "# DISCRETE TIME System is from 12mr\n",
      "sys.A[0, 0] = 0.1\n",
      "sys.A[0, 1] = 1\n",
      "sys.A[1, 0] = 1\n",
      "sys.A[1, 1] = -0.1\n",
      "\n",
      "sys.B[0, 0] = 0\n",
      "sys.B[1, 0] = 0.1\n",
      "\n",
      "sys.C[0, 0] = 1\n",
      "sys.C[0, 1] = 0"
     ],
     "language": "python",
     "metadata": {},
     "outputs": [],
     "prompt_number": 2
    },
    {
     "cell_type": "code",
     "collapsed": false,
     "input": [
      "# Initial state\n",
      "x = np.array([[-1], [0]])"
     ],
     "language": "python",
     "metadata": {},
     "outputs": [],
     "prompt_number": 42
    },
    {
     "cell_type": "code",
     "collapsed": false,
     "input": [
      "mpc = LinearMPCController(sys)\n",
      "mpc.Q = 1\n",
      "mpc.P = 1\n",
      "mpc.R = 1\n",
      "mpc.set_prediction_horizon(3)\n",
      "mpc.generate_matrices()\n",
      "\n",
      "x = sys.A.dot(x) + sys.B.dot(1)\n",
      "u = mpc.controlmove(x)\n",
      "sys.B.dot(u)"
     ],
     "language": "python",
     "metadata": {},
     "outputs": [
      {
       "metadata": {},
       "output_type": "pyout",
       "prompt_number": 43,
       "text": [
        "array([ 0.        ,  0.00108824])"
       ]
      }
     ],
     "prompt_number": 43
    },
    {
     "cell_type": "code",
     "collapsed": false,
     "input": [
      "# Run\n",
      "t = 0\n",
      "while t < 3:\n",
      "    # Get control inputs\n",
      "    u = mpc.controlmove(x)\n",
      "    \n",
      "    # Simulate system\n",
      "    x = sys.A.dot(x)\n",
      "    pprint(x)\n",
      "    x += sys.B.dot(u)\n",
      "    pprint(x)\n",
      "    \n",
      "    # Advance time\n",
      "    t += 1"
     ],
     "language": "python",
     "metadata": {},
     "outputs": [
      {
       "output_type": "stream",
       "stream": "stdout",
       "text": [
        "array([[-0.91],\n",
        "       [-0.01]])\n"
       ]
      },
      {
       "ename": "ValueError",
       "evalue": "non-broadcastable output operand with shape (2,1) doesn't match the broadcast shape (2,2)",
       "output_type": "pyerr",
       "traceback": [
        "\u001b[0;31m---------------------------------------------------------------------------\u001b[0m\n\u001b[0;31mValueError\u001b[0m                                Traceback (most recent call last)",
        "\u001b[0;32m<ipython-input-40-7d0c5e7e578b>\u001b[0m in \u001b[0;36m<module>\u001b[0;34m()\u001b[0m\n\u001b[1;32m      8\u001b[0m     \u001b[0mx\u001b[0m \u001b[0;34m=\u001b[0m \u001b[0msys\u001b[0m\u001b[0;34m.\u001b[0m\u001b[0mA\u001b[0m\u001b[0;34m.\u001b[0m\u001b[0mdot\u001b[0m\u001b[0;34m(\u001b[0m\u001b[0mx\u001b[0m\u001b[0;34m)\u001b[0m\u001b[0;34m\u001b[0m\u001b[0m\n\u001b[1;32m      9\u001b[0m     \u001b[0mpprint\u001b[0m\u001b[0;34m(\u001b[0m\u001b[0mx\u001b[0m\u001b[0;34m)\u001b[0m\u001b[0;34m\u001b[0m\u001b[0m\n\u001b[0;32m---> 10\u001b[0;31m     \u001b[0mx\u001b[0m \u001b[0;34m+=\u001b[0m \u001b[0msys\u001b[0m\u001b[0;34m.\u001b[0m\u001b[0mB\u001b[0m\u001b[0;34m.\u001b[0m\u001b[0mdot\u001b[0m\u001b[0;34m(\u001b[0m\u001b[0mu\u001b[0m\u001b[0;34m)\u001b[0m\u001b[0;34m\u001b[0m\u001b[0m\n\u001b[0m\u001b[1;32m     11\u001b[0m     \u001b[0mpprint\u001b[0m\u001b[0;34m(\u001b[0m\u001b[0mx\u001b[0m\u001b[0;34m)\u001b[0m\u001b[0;34m\u001b[0m\u001b[0m\n\u001b[1;32m     12\u001b[0m \u001b[0;34m\u001b[0m\u001b[0m\n",
        "\u001b[0;31mValueError\u001b[0m: non-broadcastable output operand with shape (2,1) doesn't match the broadcast shape (2,2)"
       ]
      }
     ],
     "prompt_number": 40
    },
    {
     "cell_type": "code",
     "collapsed": false,
     "input": [
      "# Now a simple controller\n",
      "pid = PIDController()\n",
      "pid.set_kp(2)\n",
      "# Target state is [0,x]\n",
      "pid.set_target(np.array([0]))\n",
      "\n",
      "# Make a simulator and set parms\n",
      "solver = ForwardsEulerSolver()\n",
      "sim = Simulator()\n",
      "sim.set_timestep(0.01)\n",
      "sim.set_endtime(10)\n",
      "sim.set_solver(solver)\n",
      "\n",
      "# Initial condition\n",
      "x0 = np.array([[-1], [0]])\n",
      "\n",
      "# Go for it\n",
      "t_all, x_all, u_all = sim.simulate(sys, x0, pid)\n",
      "x = x_all[:, -1]\n",
      "\n",
      "# Results\n",
      "print \"Final state is [%.6f, %.5f]\" % (x[0], x[1])\n",
      "plt.plot(t_all, x_all[0,:], t_all, u_all[0,:])"
     ],
     "language": "python",
     "metadata": {},
     "outputs": []
    },
    {
     "cell_type": "code",
     "collapsed": false,
     "input": [],
     "language": "python",
     "metadata": {},
     "outputs": []
    }
   ],
   "metadata": {}
  }
 ]
}