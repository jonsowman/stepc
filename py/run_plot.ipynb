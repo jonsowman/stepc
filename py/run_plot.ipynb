{
 "metadata": {
  "name": "",
  "signature": "sha256:4fd15ba9f2b9b4560cdf9522731bc1ee7d94532857ed503165498fc37aca9094"
 },
 "nbformat": 3,
 "nbformat_minor": 0,
 "worksheets": [
  {
   "cells": [
    {
     "cell_type": "code",
     "collapsed": false,
     "input": [
      "import numpy as np\n",
      "import cvxopt\n",
      "\n",
      "from stepc.linsystem import LinSystem\n",
      "from stepc.simulator import Simulator\n",
      "from stepc.controller import *"
     ],
     "language": "python",
     "metadata": {},
     "outputs": [],
     "prompt_number": 1
    },
    {
     "cell_type": "code",
     "collapsed": false,
     "input": [
      "# Create the system\n",
      "sys = LinSystem(2, 1, 1)\n",
      "\n",
      "# DISCRETE TIME System is from 12mr\n",
      "sys.A[0, 0] = 0.9952\n",
      "sys.A[0, 1] = 0.095\n",
      "sys.A[1, 0] = -0.095\n",
      "sys.A[1, 1] = 0.9\n",
      "\n",
      "sys.B[0, 0] = 0\n",
      "sys.B[1, 0] = 0.1\n",
      "\n",
      "sys.C[0, 0] = 1\n",
      "sys.C[0, 1] = 0"
     ],
     "language": "python",
     "metadata": {},
     "outputs": [],
     "prompt_number": 2
    },
    {
     "cell_type": "code",
     "collapsed": false,
     "input": [
      "mpc = LinearMPCController(sys)\n",
      "mpc.Q = 1\n",
      "mpc.P = 1\n",
      "mpc.R = 0.01\n",
      "mpc.set_prediction_horizon(100)\n",
      "mpc.generate_matrices()\n",
      "\n",
      "#pprint(mpc._LinearMPCController__F)"
     ],
     "language": "python",
     "metadata": {},
     "outputs": [
      {
       "output_type": "stream",
       "stream": "stdout",
       "text": [
        "array([[  8.17144765e-01,   1.97349862e+00],\n",
        "       [  6.10410347e-01,   1.84598566e+00],\n",
        "       [  4.14706943e-01,   1.71216935e+00],\n",
        "       [  2.30544711e-01,   1.57386532e+00],\n",
        "       [  5.82772889e-02,   1.43276298e+00],\n",
        "       [ -1.01883341e-01,   1.29042248e+00],\n",
        "       [ -2.49851762e-01,   1.14827324e+00],\n",
        "       [ -3.85653983e-01,   1.00761391e+00],\n",
        "       [ -5.09412404e-01,   8.69613608e-01],\n",
        "       [ -6.21331028e-01,   7.35314315e-01],\n",
        "       [ -7.21681076e-01,   6.05634260e-01],\n",
        "       [ -8.10787098e-01,   4.81372168e-01],\n",
        "       [ -8.89013721e-01,   3.63212254e-01],\n",
        "       [ -9.56753109e-01,   2.51729798e-01],\n",
        "       [ -1.01441324e+00,   1.47397213e-01],\n",
        "       [ -1.06240709e+00,   5.05904653e-02],\n",
        "       [ -1.10114272e+00,  -3.84042577e-02],\n",
        "       [ -1.13101445e+00,  -1.19383734e-01],\n",
        "       [ -1.15239503e+00,  -1.92220847e-01],\n",
        "       [ -1.16562897e+00,  -2.56857765e-01],\n",
        "       [ -1.17102693e+00,  -3.13299247e-01],\n",
        "       [ -1.16886133e+00,  -3.61606138e-01],\n",
        "       [ -1.15936310e+00,  -4.01889128e-01],\n",
        "       [ -1.14271955e+00,  -4.34302823e-01],\n",
        "       [ -1.11907349e+00,  -4.59040178e-01],\n",
        "       [ -1.08852347e+00,  -4.76327341e-01],\n",
        "       [ -1.05112513e+00,  -4.86418923e-01],\n",
        "       [ -1.00689371e+00,  -4.89593733e-01],\n",
        "       [ -9.55807642e-01,  -4.86150990e-01],\n",
        "       [ -8.97813160e-01,  -4.76407024e-01],\n",
        "       [ -8.32829963e-01,  -4.60692460e-01],\n",
        "       [ -7.60757790e-01,  -4.39349896e-01],\n",
        "       [ -6.81483916e-01,  -4.12732059e-01],\n",
        "       [ -5.94891470e-01,  -3.81200411e-01],\n",
        "       [ -5.00868522e-01,  -3.45124208e-01],\n",
        "       [ -3.99317840e-01,  -3.04879964e-01],\n",
        "       [ -2.90167256e-01,  -2.60851297e-01],\n",
        "       [ -1.73380521e-01,  -2.13429126e-01],\n",
        "       [ -4.89685688e-02,  -1.63012162e-01],\n",
        "       [  8.29989294e-02,  -1.10007676e-01],\n",
        "       [  2.22381838e-01,  -5.48324643e-02],\n",
        "       [  3.68957775e-01,   2.08601250e-03],\n",
        "       [  5.22410412e-01,   6.03083822e-02],\n",
        "       [  6.82317990e-01,   1.19382060e-01],\n",
        "       [  8.48142204e-01,   1.78839949e-01],\n",
        "       [  1.01921760e+00,   2.38199197e-01],\n",
        "       [  1.19474166e+00,   2.96960078e-01],\n",
        "       [  1.37376571e+00,   3.54605047e-01],\n",
        "       [  1.55518687e+00,   4.10598031e-01],\n",
        "       [  1.73774115e+00,   4.64384026e-01],\n",
        "       [  1.91999798e+00,   5.15389033e-01],\n",
        "       [  1.93698796e+00,   5.19960356e-01],\n",
        "       [  1.95577778e+00,   5.25015896e-01],\n",
        "       [  1.97635964e+00,   5.30553541e-01],\n",
        "       [  1.99870603e+00,   5.36565895e-01],\n",
        "       [  2.02276806e+00,   5.43039792e-01],\n",
        "       [  2.04847364e+00,   5.49955831e-01],\n",
        "       [  2.07572581e+00,   5.57287925e-01],\n",
        "       [  2.10440117e+00,   5.65002865e-01],\n",
        "       [  2.13434836e+00,   5.73059921e-01],\n",
        "       [  2.16538672e+00,   5.81410482e-01],\n",
        "       [  2.19730507e+00,   5.89997730e-01],\n",
        "       [  2.22986078e+00,   5.98756378e-01],\n",
        "       [  2.26277894e+00,   6.07612458e-01],\n",
        "       [  2.29575189e+00,   6.16483190e-01],\n",
        "       [  2.32843898e+00,   6.25276921e-01],\n",
        "       [  2.36046668e+00,   6.33893150e-01],\n",
        "       [  2.39142904e+00,   6.42222657e-01],\n",
        "       [  2.42088856e+00,   6.50147730e-01],\n",
        "       [  2.44837743e+00,   6.57542506e-01],\n",
        "       [  2.47339927e+00,   6.64273437e-01],\n",
        "       [  2.49543134e+00,   6.70199882e-01],\n",
        "       [  2.51392725e+00,   6.75174837e-01],\n",
        "       [  2.52832019e+00,   6.79045812e-01],\n",
        "       [  2.53802679e+00,   6.81655853e-01],\n",
        "       [  2.54245144e+00,   6.82844720e-01],\n",
        "       [  2.54099128e+00,   6.82450227e-01],\n",
        "       [  2.53304179e+00,   6.80309739e-01],\n",
        "       [  2.51800296e+00,   6.76261834e-01],\n",
        "       [  2.49528605e+00,   6.70148127e-01],\n",
        "       [  2.46432097e+00,   6.61815253e-01],\n",
        "       [  2.42456425e+00,   6.51117008e-01],\n",
        "       [  2.37550753e+00,   6.37916638e-01],\n",
        "       [  2.31668661e+00,   6.22089275e-01],\n",
        "       [  2.24769099e+00,   6.03524494e-01],\n",
        "       [  2.16817382e+00,   5.82129001e-01],\n",
        "       [  2.07786227e+00,   5.57829416e-01],\n",
        "       [  1.97656816e+00,   5.30575138e-01],\n",
        "       [  1.86419887e+00,   5.00341280e-01],\n",
        "       [  1.74076842e+00,   4.67131637e-01],\n",
        "       [  1.60640848e+00,   4.30981669e-01],\n",
        "       [  1.46137942e+00,   3.91961462e-01],\n",
        "       [  1.30608114e+00,   3.50178639e-01],\n",
        "       [  1.14106356e+00,   3.05781185e-01],\n",
        "       [  9.67036613e-01,   2.58960142e-01],\n",
        "       [  7.84879682e-01,   2.09952137e-01],\n",
        "       [  5.95650188e-01,   1.59041699e-01],\n",
        "       [  4.00591241e-01,   1.06563314e-01],\n",
        "       [  2.01138134e-01,   5.29031738e-02],\n",
        "       [ -1.07649093e-03,  -1.49943550e-03]])\n"
       ]
      }
     ],
     "prompt_number": 8
    },
    {
     "cell_type": "code",
     "collapsed": false,
     "input": [
      "# Initial state\n",
      "x = np.array([[-1], [0]])\n",
      "# Run\n",
      "t = 0\n",
      "ua = ta = np.empty(0)\n",
      "xa = np.empty([2,0])\n",
      "while t < 10:\n",
      "    # Get control inputs\n",
      "    u = mpc.controlmove(x)\n",
      "    \n",
      "    # Simulate system\n",
      "    x = sys.A.dot(x) + sys.B.dot(u)\n",
      "    \n",
      "    # Store\n",
      "    xa = np.hstack((xa, x))\n",
      "    ua = np.append(ua, u)\n",
      "    ta = np.append(ta, t)\n",
      "    \n",
      "    # Advance time\n",
      "    t += 0.1\n",
      "    \n",
      "# Results\n",
      "print \"Final state is [%.6f, %.5f]\" % (x[0], x[1])\n",
      "plt.plot(ta, xa[0,:])"
     ],
     "language": "python",
     "metadata": {},
     "outputs": [
      {
       "output_type": "stream",
       "stream": "stdout",
       "text": [
        "Final state is [-0.001061, 0.00069]\n"
       ]
      },
      {
       "metadata": {},
       "output_type": "pyout",
       "prompt_number": 6,
       "text": [
        "[<matplotlib.lines.Line2D at 0x7f5ff4ec0b50>]"
       ]
      },
      {
       "metadata": {},
       "output_type": "display_data",
       "png": "[encoded data removed]",
       "text": [
        "<matplotlib.figure.Figure at 0x7f5ff6122ed0>"
       ]
      }
     ],
     "prompt_number": 6
    },
    {
     "cell_type": "code",
     "collapsed": false,
     "input": [
      "x0 = np.array([[-1], [0]])\n",
      "Fx = mpc._LinearMPCController__F.dot(x0)\n",
      "G = mpc._LinearMPCController__G\n",
      "\n",
      "a = numpy.linalg.matrix_rank(G)\n",
      "print a\n",
      "\n",
      "cvx_F = cvxopt.matrix(Fx)\n",
      "cvx_G = cvxopt.matrix(mpc._LinearMPCController__G)\n",
      "\n",
      "cvxopt.solvers.qp(cvx_G, cvx_F)"
     ],
     "language": "python",
     "metadata": {},
     "outputs": [
      {
       "output_type": "stream",
       "stream": "stdout",
       "text": [
        "5\n"
       ]
      },
      {
       "metadata": {},
       "output_type": "pyout",
       "prompt_number": 39,
       "text": [
        "{'dual infeasibility': 8.361210227702066e-17,\n",
        " 'dual objective': -4.193515204923267,\n",
        " 'dual slack': 0.0,\n",
        " 'gap': 0.0,\n",
        " 'iterations': 0,\n",
        " 'primal infeasibility': 0.0,\n",
        " 'primal objective': -4.193515204923267,\n",
        " 'primal slack': 0.0,\n",
        " 'relgap': 0.0,\n",
        " 's': <0x1 matrix, tc='d'>,\n",
        " 'status': 'optimal',\n",
        " 'x': <6x1 matrix, tc='d'>,\n",
        " 'y': <0x1 matrix, tc='d'>,\n",
        " 'z': <0x1 matrix, tc='d'>}"
       ]
      }
     ],
     "prompt_number": 39
    },
    {
     "cell_type": "code",
     "collapsed": false,
     "input": [],
     "language": "python",
     "metadata": {},
     "outputs": []
    }
   ],
   "metadata": {}
  }
 ]
}