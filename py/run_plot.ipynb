{
 "metadata": {
  "name": "",
  "signature": "sha256:48542d4efbee1e7616e51939429e35bfb0bae55343a18887d01bede5907f2b91"
 },
 "nbformat": 3,
 "nbformat_minor": 0,
 "worksheets": [
  {
   "cells": [
    {
     "cell_type": "code",
     "collapsed": false,
     "input": [
      "import numpy as np\n",
      "\n",
      "from stepc.linsystem import LinSystem\n",
      "from stepc.simulator import Simulator\n",
      "from stepc.solver import ForwardsEulerSolver\n",
      "from stepc.controller import *"
     ],
     "language": "python",
     "metadata": {},
     "outputs": [],
     "prompt_number": 1
    },
    {
     "cell_type": "code",
     "collapsed": false,
     "input": [
      "# Create the system\n",
      "sys = LinSystem(2, 1, 1)\n",
      "\n",
      "# DISCRETE TIME System is from 12mr\n",
      "sys.A[0, 0] = 0.1\n",
      "sys.A[0, 1] = 1\n",
      "sys.A[1, 0] = 1\n",
      "sys.A[1, 1] = -0.1\n",
      "\n",
      "sys.B[0, 0] = 0\n",
      "sys.B[1, 0] = 0.1\n",
      "\n",
      "sys.C[0, 0] = 1\n",
      "sys.C[0, 1] = 0"
     ],
     "language": "python",
     "metadata": {},
     "outputs": [],
     "prompt_number": 2
    },
    {
     "cell_type": "code",
     "collapsed": false,
     "input": [
      "mpc = LinearMPCController(sys)\n",
      "mpc.Q = 1\n",
      "mpc.P = 1\n",
      "mpc.R = 1\n",
      "mpc.set_prediction_horizon(1)\n",
      "mpc.generate_matrices()\n",
      "mpc._LinearMPCController__F"
     ],
     "language": "python",
     "metadata": {},
     "outputs": [
      {
       "output_type": "stream",
       "stream": "stdout",
       "text": [
        "array([[ 0. ],\n",
        "       [ 0.1]])\n"
       ]
      },
      {
       "metadata": {},
       "output_type": "pyout",
       "prompt_number": 6,
       "text": [
        "array([[ 0.2 , -0.02]])"
       ]
      }
     ],
     "prompt_number": 6
    },
    {
     "cell_type": "code",
     "collapsed": false,
     "input": [
      "# Now a simple controller\n",
      "pid = PIDController()\n",
      "pid.set_kp(2)\n",
      "# Target state is [0,x]\n",
      "pid.set_target(np.array([0]))\n",
      "\n",
      "# Make a simulator and set parms\n",
      "solver = ForwardsEulerSolver()\n",
      "sim = Simulator()\n",
      "sim.set_timestep(0.01)\n",
      "sim.set_endtime(10)\n",
      "sim.set_solver(solver)\n",
      "\n",
      "# Initial condition\n",
      "x0 = np.array([[-1], [0]])\n",
      "\n",
      "# Go for it\n",
      "t_all, x_all, u_all = sim.simulate(sys, x0, pid)\n",
      "x = x_all[:, -1]\n",
      "\n",
      "# Results\n",
      "print \"Final state is [%.6f, %.5f]\" % (x[0], x[1])\n",
      "plt.plot(t_all, x_all[0,:], t_all, u_all[0,:])"
     ],
     "language": "python",
     "metadata": {},
     "outputs": []
    },
    {
     "cell_type": "code",
     "collapsed": false,
     "input": [],
     "language": "python",
     "metadata": {},
     "outputs": []
    }
   ],
   "metadata": {}
  }
 ]
}