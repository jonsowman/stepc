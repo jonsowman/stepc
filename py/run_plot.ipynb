{
 "metadata": {
  "name": "",
  "signature": "sha256:334c5d723a48bb066e95f14a0564feb44e24d1a96493987e8276a9d67fcdfc04"
 },
 "nbformat": 3,
 "nbformat_minor": 0,
 "worksheets": [
  {
   "cells": [
    {
     "cell_type": "code",
     "collapsed": false,
     "input": [
      "import numpy as np\n",
      "import cvxopt\n",
      "from stepc.linsystem import LinSystem\n",
      "from stepc.simulator import Simulator\n",
      "from stepc.controller import *"
     ],
     "language": "python",
     "metadata": {},
     "outputs": [],
     "prompt_number": 5
    },
    {
     "cell_type": "code",
     "collapsed": false,
     "input": [
      "# Create the system\n",
      "sys = LinSystem(2, 1, 1)\n",
      "\n",
      "# DISCRETE TIME System is from 12mr\n",
      "sys.A[0, 0] = 0.9952\n",
      "sys.A[0, 1] = 0.095\n",
      "sys.A[1, 0] = -0.095\n",
      "sys.A[1, 1] = 0.9\n",
      "\n",
      "sys.B[0, 0] = 0\n",
      "sys.B[1, 0] = 0.1\n",
      "\n",
      "sys.C[0, 0] = 1\n",
      "sys.C[0, 1] = 0"
     ],
     "language": "python",
     "metadata": {},
     "outputs": [],
     "prompt_number": 6
    },
    {
     "cell_type": "code",
     "collapsed": false,
     "input": [
      "mpc = LinearMPCController(sys)\n",
      "mpc.Q = 1\n",
      "mpc.P = 1\n",
      "mpc.R = 0.001\n",
      "mpc.set_prediction_horizon(10)\n",
      "mpc.set_control_horizon(3)\n",
      "mpc.set_target(np.array([[0], [0]]))\n",
      "mpc.generate_matrices()\n",
      "mpc.generate_constraints(np.array([[-100]]), np.array([[100]]))"
     ],
     "language": "python",
     "metadata": {},
     "outputs": [],
     "prompt_number": 7
    },
    {
     "cell_type": "code",
     "collapsed": false,
     "input": [
      "# Initial state\n",
      "x = np.array([[-1], [0]])\n",
      "\n",
      "# Reset the controller\n",
      "mpc.reset()\n",
      "\n",
      "# Run\n",
      "t = 0\n",
      "ua = ta = np.empty(0)\n",
      "xa = np.empty([2,0])\n",
      "while t < 10:\n",
      "    # Get control inputs\n",
      "    u = mpc.controlmove(x)\n",
      "    \n",
      "    # Simulate system\n",
      "    x = sys.A.dot(x) + sys.B.dot(u)\n",
      "    \n",
      "    # Store\n",
      "    xa = np.hstack((xa, x))\n",
      "    ua = np.append(ua, u)\n",
      "    ta = np.append(ta, t)\n",
      "    \n",
      "    # Advance time\n",
      "    t += 0.1\n",
      "    \n",
      "# Results\n",
      "print \"Final state is [%.6f, %.5f]\" % (x[0], x[1])\n",
      "plt.plot(ta, xa[0,:], ta, ua)"
     ],
     "language": "python",
     "metadata": {},
     "outputs": [
      {
       "output_type": "stream",
       "stream": "stdout",
       "text": [
        "Final state is [-100.181663, -5.54618]\n"
       ]
      },
      {
       "metadata": {},
       "output_type": "pyout",
       "prompt_number": 8,
       "text": [
        "[<matplotlib.lines.Line2D at 0x113467610>,\n",
        " <matplotlib.lines.Line2D at 0x113467890>]"
       ]
      },
      {
       "metadata": {},
       "output_type": "display_data",
       "png": "[encoded data removed]",
       "text": [
        "<matplotlib.figure.Figure at 0x113338890>"
       ]
      }
     ],
     "prompt_number": 8
    }
   ],
   "metadata": {}
  }
 ]
}