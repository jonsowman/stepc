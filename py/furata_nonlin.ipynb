{
 "metadata": {
  "name": "",
  "signature": "sha256:bb58b26a6c46ecb5a6e18d18891132fa35db3ab629e01205570a4a09f6ca9b10"
 },
 "nbformat": 3,
 "nbformat_minor": 0,
 "worksheets": [
  {
   "cells": [
    {
     "cell_type": "code",
     "collapsed": false,
     "input": [
      "import numpy as np\n",
      "from scipy import integrate"
     ],
     "language": "python",
     "metadata": {},
     "outputs": [],
     "prompt_number": 47
    },
    {
     "cell_type": "code",
     "collapsed": false,
     "input": [
      "# Pendulum parameters\n",
      "mp = 0.024\n",
      "mr = 0.95\n",
      "Lp = 0.129\n",
      "Lr = 0.085\n",
      "Jp = 3.33e-5\n",
      "Jr = 5.72e-5\n",
      "Bp = 1e-3\n",
      "Br = 0.0\n",
      "kt = 0.042\n",
      "km = 0.042\n",
      "Rm = 8.4\n",
      "g = 9.81\n",
      "\n",
      "# Total MoI\n",
      "Jt = Jp*mp*Lr*Lr + Jr*Jp + 0.25*Jr*mp*Lp*Lp"
     ],
     "language": "python",
     "metadata": {},
     "outputs": [],
     "prompt_number": 89
    },
    {
     "cell_type": "markdown",
     "metadata": {},
     "source": [
      "We have a nonlinear model that looks like $\\ddot{\\alpha} = f_1(\\alpha, \\theta, \\dot{\\alpha}, \\dot{\\theta})$ and $\\ddot{\\theta} = f_2(\\alpha, \\theta, \\dot{\\alpha}, \\dot{\\theta})$. The `nlderiv` function, given a state vector $\\mathbf{x} = [\\theta, \\alpha, \\dot{\\theta}, \\dot{\\alpha}]'$ and an input $\\mathbf{u}$, returns the derivative $\\dot{\\mathbf{x}}$."
     ]
    },
    {
     "cell_type": "code",
     "collapsed": false,
     "input": [
      "def nlderiv(x, t, u):\n",
      "    # Extract information from the state vector\n",
      "    t = x[0]\n",
      "    a = x[1]\n",
      "    tdot = x[2]\n",
      "    adot = x[3]\n",
      "    \n",
      "    # Actuator model (u given to this function is motor voltage Vm)\n",
      "    u = kt*(u - km*tdot)/Rm\n",
      "    \n",
      "    # Compute theta-dot-dot (tdotdot)\n",
      "    num1 = Br*tdot \\\n",
      "            + (Lp*Lr*mp*adot**2*np.sin(a))/2 \\\n",
      "            - (Lp*Lr*mp*np.cos(a)*((mp*np.cos(a)*np.sin(a)*Lp**2*tdot**2)/4 + (g*mp*np.sin(a)*Lp)/2 - Bp*adot))/2*((mp*Lp**2)/4 + Jp) \\\n",
      "            + (Lp**2*adot*mp*tdot*np.cos(a)*np.sin(a))\n",
      "    den11 = (Lp**2*Lr**2*mp**2*(np.cos(a))**2) / ((mp*Lp**2 + 4*Jp)*((-mp*Lp**2*(np.cos(a))**2)/4 + (mp*Lp**2)/4 + mp*Lr**2 + Jr)) - 1\n",
      "    den12 = (-mp*Lp**2*(np.cos(a))**2)/4 + (mp*Lp**2)/4 + mp*Lr**2 + Jr\n",
      "    \n",
      "    # Torque term\n",
      "    den1t1 = (Lp**2*Lr**2*mp**2*(np.cos(a))**2)/(4*((mp*Lp**2)/4 + Jp)*((-mp*Lp**2*(np.cos(a))**2)/4 + (mp*Lp**2)/4 + mp*Lr**2 + Jr)) - 1\n",
      "    den1t2 = -(mp*Lp**2*(np.cos(a))**2)/4 + (mp*Lp**2)/4 + mp*Lr**2 + Jr\n",
      "    tauterm = 1/(den1t1 * den1t2)\n",
      "    \n",
      "    # Final\n",
      "    tdotdot = num1/(den11*den12) - tauterm * u\n",
      "    \n",
      "    # Compute alpha-dot-dot\n",
      "    num2 = Bp * adot \\\n",
      "            - (Lp*g*mp*np.sin(a))/2 \\\n",
      "            - (Lp**2*mp*tdot**2*np.cos(a)*np.sin(a))/4 \\\n",
      "            + (Lp*Lr*mp*np.cos(a)*(mp*tdot*np.cos(a)*np.sin(a)*Lp**2*adot/2 + Lr*mp*np.sin(a)*Lp*adot**2/2 + Br*tdot))/(2*((-mp*Lp**2*(np.cos(a))**2)/4 + (mp*Lp**2)/4 + mp*Lr**2 + Jr))\n",
      "    den21 = (Lp**2*Lr**2*mp**2*(np.cos(a))**2)/(4*((mp*Lp**2)/4 + Jp)*((-mp*Lp**2*(np.cos(a))**2)/4 + (mp*Lp**2)/4 + mp*Lr**2 + Jr)) - 1\n",
      "    \n",
      "    # Torque term\n",
      "    den2t1 = (Lp**2*Lr**2*mp**2*(np.cos(a))**2) / (4*((mp*Lp**2)/4 + Jp) * ((-mp*Lp**2*(np.cos(a))**2)/4 + (mp*Lp**2)/4 + mp*Lr**2 + Jr)) - 1\n",
      "    den2t2 = (mp*Lp**2)/4 + Jp\n",
      "    den2t3 = (-mp*Lp**2*(np.cos(a))**2)/4 + (mp*Lp**2)/4 + mp*Lr**2 + Jr\n",
      "    \n",
      "    # Final\n",
      "    adotdot = num2/(den21 * ((mp*Lr**2)/4 + Jp)) - ((Lp*Lr*mp*np.cos(a))/(2*den2t1*den2t2*den2t3))*u\n",
      "    \n",
      "    # Return xdot\n",
      "    return np.array([tdot, adot, tdotdot, adotdot])"
     ],
     "language": "python",
     "metadata": {},
     "outputs": [],
     "prompt_number": 90
    },
    {
     "cell_type": "code",
     "collapsed": false,
     "input": [
      "x = np.array([0.0, 0.0, 0.0, 0.0])\n",
      "\n",
      "# Input\n",
      "u = -2\n",
      "\n",
      "# Simulation end time in seconds\n",
      "Tend = 2\n",
      "\n",
      "x = np.float64(x) # force data type\n",
      "u = np.float64(u)\n",
      "Tend = np.float64(Tend)\n",
      "t = np.linspace(0, Tend, 1e4)\n",
      "\n",
      "y = integrate.odeint(nlderiv, x, t, args=(u,))\n",
      "plot(t, y[:,1])"
     ],
     "language": "python",
     "metadata": {},
     "outputs": [
      {
       "metadata": {},
       "output_type": "pyout",
       "prompt_number": 103,
       "text": [
        "[<matplotlib.lines.Line2D at 0x10fb43390>]"
       ]
      },
      {
       "metadata": {},
       "output_type": "display_data",
       "png": "[encoded data removed]",
       "text": [
        "<matplotlib.figure.Figure at 0x10f927dd0>"
       ]
      }
     ],
     "prompt_number": 103
    }
   ],
   "metadata": {}
  }
 ]
}